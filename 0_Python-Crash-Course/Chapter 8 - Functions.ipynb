{
 "cells": [
  {
   "cell_type": "markdown",
   "id": "3c94bef5",
   "metadata": {},
   "source": [
    "# Python Crash Course\n",
    "## Chapter#8 : Functions\n",
    "\n",
    "In this chapter we will learn how to write functions which are named blocks of code designed to do one specific job. When we want to perform that particular task that youve defined in a function you call the name of the function responsible for it."
   ]
  },
  {
   "cell_type": "markdown",
   "id": "89a612d3",
   "metadata": {},
   "source": [
    "### Defnining a Function\n",
    "\n",
    "Heres a simple function definition to show the syntax for it:"
   ]
  },
  {
   "cell_type": "code",
   "execution_count": 2,
   "id": "8db09bf2",
   "metadata": {},
   "outputs": [
    {
     "name": "stdout",
     "output_type": "stream",
     "text": [
      "Hello!\n"
     ]
    }
   ],
   "source": [
    "def greet_user():\n",
    "    \"\"\"Display a simple greeting.\"\"\"\n",
    "    print(\"Hello!\")\n",
    "\n",
    "greet_user()"
   ]
  },
  {
   "cell_type": "markdown",
   "id": "748b723d",
   "metadata": {},
   "source": [
    "the first line above is the function definition. This is where you set the name of the function and and set the arguments you need to pass to it.\n",
    "\n",
    "The commnet is called a docstring. This describes what the function is done. Docstrings are enclosed in triple quites"
   ]
  },
  {
   "cell_type": "markdown",
   "id": "26bb2139",
   "metadata": {},
   "source": [
    "### Positional Arguments\n",
    "\n",
    "When you call a funtion Python must match each argument in the function call with a parameter in the function definition. The simplest way is to do this based on the arguments provided"
   ]
  },
  {
   "cell_type": "code",
   "execution_count": 4,
   "id": "468f6a1e",
   "metadata": {},
   "outputs": [
    {
     "name": "stdout",
     "output_type": "stream",
     "text": [
      "\n",
      "I have a cat.\n",
      "My cat's name is Oreo.\n"
     ]
    }
   ],
   "source": [
    "def my_pet(pet_name, pet_type):\n",
    "    \"\"\"Displays information about pey\"\"\"\n",
    "    print(\"\\nI have a \" + pet_type + \".\")\n",
    "    print(\"My \" + pet_type + \"'s name is \" + pet_name.title() + \".\")\n",
    "\n",
    "my_pet('oreo', 'cat')"
   ]
  },
  {
   "cell_type": "markdown",
   "id": "983e271f",
   "metadata": {},
   "source": [
    "if you dont know the order of the function arguments you can assign them using the name of the argument like so:"
   ]
  },
  {
   "cell_type": "code",
   "execution_count": 5,
   "id": "e7612643",
   "metadata": {},
   "outputs": [
    {
     "name": "stdout",
     "output_type": "stream",
     "text": [
      "\n",
      "I have a fish.\n",
      "My fish's name is Nemo.\n"
     ]
    }
   ],
   "source": [
    "my_pet(pet_type='fish', pet_name='nemo')"
   ]
  },
  {
   "cell_type": "markdown",
   "id": "693a44f8",
   "metadata": {},
   "source": [
    "## Return Values\n",
    "A function doesnt always have to display its output directly. Instead it can process some data and then return the value or set of values"
   ]
  },
  {
   "cell_type": "code",
   "execution_count": 7,
   "id": "f6682935",
   "metadata": {},
   "outputs": [
    {
     "name": "stdout",
     "output_type": "stream",
     "text": [
      "7\n"
     ]
    }
   ],
   "source": [
    "def my_sum(num_a, num_b):\n",
    "    \"\"\"Returns sum of 2 numbers\"\"\"\n",
    "    return num_a+num_b\n",
    "\n",
    "sum_value = my_sum(2, 5)\n",
    "print(sum_value)"
   ]
  },
  {
   "cell_type": "markdown",
   "id": "fc89a5a3",
   "metadata": {},
   "source": [
    "### Passing an Arbritary Number of Arguments\n",
    "\n",
    "Sometimes you wonit know ahead of time how many arguments a function needs to accept. For this we can collect an arbritary number of arguments"
   ]
  },
  {
   "cell_type": "code",
   "execution_count": 9,
   "id": "6125c54b",
   "metadata": {},
   "outputs": [
    {
     "name": "stdout",
     "output_type": "stream",
     "text": [
      "('mushroom', 'tomato', 'chicken')\n"
     ]
    }
   ],
   "source": [
    "def make_pizza(*toppings):\n",
    "    \"\"\"Prints the toppings\"\"\"\n",
    "    print(toppings)\n",
    "    \n",
    "make_pizza('mushroom', 'tomato', 'chicken')"
   ]
  },
  {
   "cell_type": "markdown",
   "id": "52e1b559",
   "metadata": {},
   "source": [
    "similarly we have\n",
    "\n",
    "### Arbritary Keyword Arguments\n",
    "These will make key value pairs for the arbritary arguments"
   ]
  },
  {
   "cell_type": "code",
   "execution_count": 11,
   "id": "139834af",
   "metadata": {},
   "outputs": [
    {
     "name": "stdout",
     "output_type": "stream",
     "text": [
      "{'first_name': 'adil', 'last_name': 'mubashir', 'field': 'engineering'}\n"
     ]
    }
   ],
   "source": [
    "def build_profile(first, last, **user_info):\n",
    "    \"\"\"Build a dictionary containing everything we know about a user.\"\"\"\n",
    "    profile = {}\n",
    "    profile['first_name'] = first\n",
    "    profile['last_name'] = last\n",
    "    for key, value in user_info.items():\n",
    "        profile[key] = value\n",
    "    return profile\n",
    "\n",
    "user_profile = build_profile('adil', 'mubashir', field='engineering')\n",
    "print(user_profile)"
   ]
  },
  {
   "cell_type": "markdown",
   "id": "ad6c0753",
   "metadata": {},
   "source": [
    "## Summary\n",
    "\n",
    "In this chapter you learned how to write functions and to pass arguments\n",
    "so that your functions have access to the information they need to do their\n",
    "work. You learned how to use positional and keyword arguments, and how\n",
    "to accept an arbitrary number of arguments. You saw functions that display\n",
    "output and functions that return values. You learned how to use functions\n",
    "with lists, dictionaries, if statements, and while loops. You also saw how to\n",
    "store your functions in separate files called modules, so your program files\n",
    "will be simpler and easier to understand. Finally, you learned to style your\n",
    "functions so your programs will continue to be well-structured and as easy\n",
    "as possible for you and others to read.\n",
    "One of your goals as a programmer should be to write simple code that\n",
    "does what you want it to, and functions help you do this. They allow you to\n",
    "write blocks of code and leave them alone once you know they work. When\n",
    "you know a function does its job correctly, you can trust that it will continue\n",
    "to work and move on to your next coding task.\n",
    "Functions allow you to write code once and then reuse that code as\n",
    "many times as you want. When you need to run the code in a function,\n",
    "all you need to do is write a one-line call and the function does its job.\n",
    "When you need to modify a function’s behavior, you only have to modify\n",
    "one block of code, and your change takes effect everywhere you’ve made a\n",
    "call to that function.\n",
    "Using functions makes your programs easier to read, and good function\n",
    "names summarize what each part of a program does. Reading a series\n",
    "of function calls gives you a much quicker sense of what a program does\n",
    "than reading a long series of code blocks.\n",
    "160 Chapter 8\n",
    "Functions also make your code easier to test and debug. When the bulk\n",
    "of your program’s work is done by a set of functions, each of which has a\n",
    "specific job, it’s much easier to test and maintain the code you’ve written.\n",
    "You can write a separate program that calls each function and tests whether\n",
    "each function works in all the situations it may encounter. When you do\n",
    "this, you can be confident that your functions will work properly each time\n",
    "you call them.\n",
    "In Chapter 9 you’ll learn to write classes. Classes combine functions and\n",
    "data into one neat package that can be used in flexible and efficient ways"
   ]
  },
  {
   "cell_type": "code",
   "execution_count": null,
   "id": "6b61424d",
   "metadata": {},
   "outputs": [],
   "source": []
  }
 ],
 "metadata": {
  "kernelspec": {
   "display_name": "Python 3 (ipykernel)",
   "language": "python",
   "name": "python3"
  },
  "language_info": {
   "codemirror_mode": {
    "name": "ipython",
    "version": 3
   },
   "file_extension": ".py",
   "mimetype": "text/x-python",
   "name": "python",
   "nbconvert_exporter": "python",
   "pygments_lexer": "ipython3",
   "version": "3.9.13"
  }
 },
 "nbformat": 4,
 "nbformat_minor": 5
}
