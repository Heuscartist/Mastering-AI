{
 "cells": [
  {
   "cell_type": "markdown",
   "id": "3420379a",
   "metadata": {},
   "source": [
    "# Python Crash Course\n",
    "## Chapter#3 : Introducing Lists\n",
    "\n",
    "In this chapter and the next we will learn what lists are and how to start working with the elements in lists. Lists allow you to store set of information in one place, whether you have just a few items or millions of items."
   ]
  },
  {
   "cell_type": "markdown",
   "id": "4948fb59",
   "metadata": {},
   "source": [
    "List is a collection of items in a particular order. You can make a list that includes the letters of the alphabet, the digits 0-9, or the names of all the people in your family.\n",
    "\n",
    "In Python squared brackets [] indicte lists and each seperate element is seperated using a comma. For example:"
   ]
  },
  {
   "cell_type": "code",
   "execution_count": 11,
   "id": "adfc9124",
   "metadata": {},
   "outputs": [
    {
     "data": {
      "text/plain": [
       "['adil', 'mubashir', 'ali']"
      ]
     },
     "execution_count": 11,
     "metadata": {},
     "output_type": "execute_result"
    }
   ],
   "source": [
    "names = ['adil', 'mubashir', 'ali']\n",
    "names"
   ]
  },
  {
   "cell_type": "markdown",
   "id": "d6f315b3",
   "metadata": {},
   "source": [
    "#### Accessing Elements in a List\n",
    "\n",
    "Lists are ordered collections, so you can access any elements in a list by telling Python the position of the element. For example"
   ]
  },
  {
   "cell_type": "code",
   "execution_count": 12,
   "id": "c149d237",
   "metadata": {},
   "outputs": [
    {
     "name": "stdout",
     "output_type": "stream",
     "text": [
      "adil\n"
     ]
    }
   ],
   "source": [
    "print(names[0])"
   ]
  },
  {
   "cell_type": "markdown",
   "id": "63346f20",
   "metadata": {},
   "source": [
    "keep in mind as shown above that the indexing in lists start with 0 not 1. Python gives other indexing functionality as well. If you want to start accesing values from the end of the list you may do so using a negative integer. For Example:"
   ]
  },
  {
   "cell_type": "code",
   "execution_count": 13,
   "id": "c33998bc",
   "metadata": {},
   "outputs": [
    {
     "name": "stdout",
     "output_type": "stream",
     "text": [
      "ali\n"
     ]
    }
   ],
   "source": [
    "print(names[-1])"
   ]
  },
  {
   "cell_type": "markdown",
   "id": "dbbe6ce0",
   "metadata": {},
   "source": [
    "### Changing, Adding and Removing Elements\n",
    "\n",
    "Most lists you create will be dynamic. This means that you can add or remove elements from the list as your program runs its course.\n",
    "\n",
    "#### Modifying Elemetns in List\n",
    "\n",
    "The syntax for modifying an element is similar to the syntax for accessing elements. For example:"
   ]
  },
  {
   "cell_type": "code",
   "execution_count": 14,
   "id": "253d07ab",
   "metadata": {},
   "outputs": [
    {
     "name": "stdout",
     "output_type": "stream",
     "text": [
      "['adil', 'abdullah', 'ali']\n"
     ]
    }
   ],
   "source": [
    "names[1] = 'abdullah'\n",
    "print(names)"
   ]
  },
  {
   "cell_type": "markdown",
   "id": "7790d4d1",
   "metadata": {},
   "source": [
    "#### Adding Elements to List\n",
    "\n",
    "You might want to add elements to list for many reasons. Python provides several ways to add new data to existing lists.\n",
    "\n",
    "##### Appending Elements to the End of the List\n",
    "\n",
    "The simplest method is to use the append method to add the new element to the end of the list. For Example:"
   ]
  },
  {
   "cell_type": "code",
   "execution_count": 15,
   "id": "e43624d0",
   "metadata": {},
   "outputs": [
    {
     "name": "stdout",
     "output_type": "stream",
     "text": [
      "['adil', 'abdullah', 'ali', 'ibrahim']\n"
     ]
    }
   ],
   "source": [
    "names.append('ibrahim')\n",
    "print(names)"
   ]
  },
  {
   "cell_type": "markdown",
   "id": "b7d7fc8d",
   "metadata": {},
   "source": [
    "##### Inserting Elements to List\n",
    "\n",
    "You may want to insert an element in a specific location instead of having it append to the list. You can use the insert() method to do this. The insert method takes in 2 arguments. The first argument is the location where you would like to insert the value in list and the second argument is the data that you would like to insert in the list For Example:"
   ]
  },
  {
   "cell_type": "code",
   "execution_count": 16,
   "id": "7cbc86a4",
   "metadata": {},
   "outputs": [
    {
     "name": "stdout",
     "output_type": "stream",
     "text": [
      "['rohaan', 'adil', 'abdullah', 'ali', 'ibrahim']\n"
     ]
    }
   ],
   "source": [
    "names.insert(0, 'rohaan')\n",
    "print(names)"
   ]
  },
  {
   "cell_type": "markdown",
   "id": "6445daa8",
   "metadata": {},
   "source": [
    "##### Removing Elements from List\n",
    "\n",
    "Often you would like to remove an item or set of items from a list. There are a couple ways you can do this\n",
    "\n",
    "##### Removing an Item using the del statement\n",
    "\n",
    "If you know the position (index) of the element you want to remove you can use the del statement. For example:"
   ]
  },
  {
   "cell_type": "code",
   "execution_count": 17,
   "id": "a5f651ef",
   "metadata": {},
   "outputs": [
    {
     "name": "stdout",
     "output_type": "stream",
     "text": [
      "['adil', 'abdullah', 'ali', 'ibrahim']\n"
     ]
    }
   ],
   "source": [
    "del names[0]\n",
    "print(names)"
   ]
  },
  {
   "cell_type": "markdown",
   "id": "dc64b15a",
   "metadata": {},
   "source": [
    "###### Removing an Item using the pop statement\n",
    "\n",
    "Sometimes you want to remove an element and store its value somewhere else. You can use the pop() method for this. The pop() method removes the last item in the list and returns that last item. You can think of popping as one item off the top if the stack. For example:"
   ]
  },
  {
   "cell_type": "code",
   "execution_count": 18,
   "id": "adab3073",
   "metadata": {},
   "outputs": [
    {
     "name": "stdout",
     "output_type": "stream",
     "text": [
      "['adil', 'abdullah', 'ali']\n",
      "ibrahim\n"
     ]
    }
   ],
   "source": [
    "popped_name = names.pop()\n",
    "print(names)\n",
    "print(popped_name)"
   ]
  },
  {
   "cell_type": "markdown",
   "id": "b2d20f0f",
   "metadata": {},
   "source": [
    "The pop method can be passed an optional argument which would refer to the index at which you want the data to be popped from\n",
    "\n",
    "\n",
    "##### Removing Item by Value\n",
    "\n",
    "Sometimes you might not know the position of the data but you know the value of it. You acn use the .remove() method and specify the value in this as argument of what you want removed from the list"
   ]
  },
  {
   "cell_type": "code",
   "execution_count": 19,
   "id": "2323c02f",
   "metadata": {},
   "outputs": [
    {
     "name": "stdout",
     "output_type": "stream",
     "text": [
      "['abdullah', 'ali']\n"
     ]
    }
   ],
   "source": [
    "names.remove('adil')\n",
    "print(names)"
   ]
  },
  {
   "cell_type": "markdown",
   "id": "c27db71a",
   "metadata": {},
   "source": [
    "### Organizing Lists\n",
    "\n",
    "Often your list will be created in an unpredictable order. There are ways to organize your list depending on the situation.\n",
    "\n",
    "#### Sorting permanently using the .sort() method\n",
    "\n",
    "The sort() method can be used on a list and this will change the ordering of the list in place. Meaning that the list itself will become ordered. For example:"
   ]
  },
  {
   "cell_type": "code",
   "execution_count": 20,
   "id": "dd1c01fc",
   "metadata": {},
   "outputs": [
    {
     "name": "stdout",
     "output_type": "stream",
     "text": [
      "['a', 'b', 'c', 'd']\n"
     ]
    }
   ],
   "source": [
    "alphabets = ['b', 'd', 'c', 'a']\n",
    "alphabets.sort()\n",
    "print(alphabets)"
   ]
  },
  {
   "cell_type": "markdown",
   "id": "47fa5df3",
   "metadata": {},
   "source": [
    "however there might be times where you dont want the original organization of the list to change. You can use the sorted() function in that case and pass in the list as a parameter to this function."
   ]
  },
  {
   "cell_type": "code",
   "execution_count": 22,
   "id": "436de47e",
   "metadata": {},
   "outputs": [
    {
     "name": "stdout",
     "output_type": "stream",
     "text": [
      "['a', 'b', 'c', 'd']\n",
      "['b', 'd', 'c', 'a']\n"
     ]
    }
   ],
   "source": [
    "alphabets = ['b', 'd', 'c', 'a']\n",
    "print(sorted(alphabets))\n",
    "print(alphabets)"
   ]
  },
  {
   "cell_type": "markdown",
   "id": "76b24ea1",
   "metadata": {},
   "source": [
    "##### Printing List in Reverse Order\n",
    "\n",
    "To reverse the original order of a list you can use the reverse() method."
   ]
  },
  {
   "cell_type": "code",
   "execution_count": 23,
   "id": "8b4d9488",
   "metadata": {},
   "outputs": [
    {
     "name": "stdout",
     "output_type": "stream",
     "text": [
      "['a', 'c', 'd', 'b']\n"
     ]
    }
   ],
   "source": [
    "alphabets.reverse()\n",
    "print(alphabets)"
   ]
  },
  {
   "cell_type": "markdown",
   "id": "fb73b602",
   "metadata": {},
   "source": [
    "##### Finding Length of List\n",
    "\n",
    "At times you want to know the length of the list for certain computations beforehand. You can use the len() function for this."
   ]
  },
  {
   "cell_type": "code",
   "execution_count": 24,
   "id": "316ae48c",
   "metadata": {},
   "outputs": [
    {
     "name": "stdout",
     "output_type": "stream",
     "text": [
      "4\n"
     ]
    }
   ],
   "source": [
    "print(len(alphabets))"
   ]
  },
  {
   "cell_type": "markdown",
   "id": "27c58b7c",
   "metadata": {},
   "source": [
    "### Summary\n",
    "\n",
    "In this chapter you learned what lists are and how to work with the individual items in a list. You learned how to define a list and how to add and remove elements. You learned to sort lists permanently and temporarily for display purposes. You also learned how to find the length of a list and how to avoid index errors when you’re working with lists. In Chapter 4 you’ll learn how to work with items in a list more efficiently. By looping through each item in a list using just a few lines of code you’ll be able to work efficiently, even when your list contains thousands or millions of items."
   ]
  }
 ],
 "metadata": {
  "kernelspec": {
   "display_name": "Python 3 (ipykernel)",
   "language": "python",
   "name": "python3"
  },
  "language_info": {
   "codemirror_mode": {
    "name": "ipython",
    "version": 3
   },
   "file_extension": ".py",
   "mimetype": "text/x-python",
   "name": "python",
   "nbconvert_exporter": "python",
   "pygments_lexer": "ipython3",
   "version": "3.9.13"
  }
 },
 "nbformat": 4,
 "nbformat_minor": 5
}
