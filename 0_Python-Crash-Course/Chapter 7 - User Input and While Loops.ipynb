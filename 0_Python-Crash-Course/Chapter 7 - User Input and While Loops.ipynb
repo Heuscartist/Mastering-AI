{
 "cells": [
  {
   "cell_type": "markdown",
   "id": "cc0e0f70",
   "metadata": {},
   "source": [
    "# Python Crash Course\n",
    "## Chapter#7 : User Inputs and While Loops\n",
    "\n",
    "Most programs are written to solve an end users problem and to do so you usually need to get some information from the user. In this chapter we will learn how to accept user inputs so our program can work with them."
   ]
  },
  {
   "cell_type": "markdown",
   "id": "f7dc0e36",
   "metadata": {},
   "source": [
    "### How the input() function Works\n",
    "\n",
    "The input() function pauses your program and waits for the user to enter some text. It stores that input in some variable for us to work with."
   ]
  },
  {
   "cell_type": "code",
   "execution_count": 4,
   "id": "bed7272f",
   "metadata": {},
   "outputs": [
    {
     "name": "stdout",
     "output_type": "stream",
     "text": [
      "Enter Your Name: Adil\n",
      "Adil\n"
     ]
    }
   ],
   "source": [
    "name = input('Enter Your Name: ')\n",
    "print(name)"
   ]
  },
  {
   "cell_type": "markdown",
   "id": "2e0866e3",
   "metadata": {},
   "source": [
    "We must keep in mind that by default any user input we give is of datatype string. In case we want some numeric input, we'll need to typecast the input to our desired data type"
   ]
  },
  {
   "cell_type": "code",
   "execution_count": 5,
   "id": "6c3a67fa",
   "metadata": {},
   "outputs": [
    {
     "name": "stdout",
     "output_type": "stream",
     "text": [
      "Enter Number 1: 5\n",
      "Enter Number 2: 3\n",
      "Sum:  8\n"
     ]
    }
   ],
   "source": [
    "number1 = int(input(\"Enter Number 1: \"))\n",
    "number2 = int(input(\"Enter Number 2: \"))\n",
    "print('Sum: ', number1+number2)"
   ]
  },
  {
   "cell_type": "code",
   "execution_count": 6,
   "id": "16778034",
   "metadata": {},
   "outputs": [
    {
     "name": "stdout",
     "output_type": "stream",
     "text": [
      "Enter Number 1: 5\n",
      "Enter Number 2: 3\n",
      "Sum:  53\n"
     ]
    }
   ],
   "source": [
    "number1 = input(\"Enter Number 1: \")\n",
    "number2 = input(\"Enter Number 2: \")\n",
    "print('Sum: ', number1+number2)"
   ]
  },
  {
   "cell_type": "markdown",
   "id": "0dda2412",
   "metadata": {},
   "source": [
    "## Introducing While Loops\n",
    "\n",
    "A while loop runs as long as a cetrain condition is true"
   ]
  },
  {
   "cell_type": "code",
   "execution_count": 9,
   "id": "7d5f8980",
   "metadata": {},
   "outputs": [
    {
     "name": "stdout",
     "output_type": "stream",
     "text": [
      "1\n",
      "2\n",
      "3\n",
      "4\n",
      "5\n"
     ]
    }
   ],
   "source": [
    "current_number = 1\n",
    "while current_number <=5:\n",
    "    print(current_number)\n",
    "    current_number+=1"
   ]
  },
  {
   "cell_type": "markdown",
   "id": "4db8a5ee",
   "metadata": {},
   "source": [
    "### Letting the User Choose when to Quit\n",
    "### Flags\n",
    "\n",
    "We can use a conditional flag that is input by user and checked by the while loop. This allows the user to chose till when the while loop runs. This can be useful to end programs when needed by user"
   ]
  },
  {
   "cell_type": "code",
   "execution_count": 12,
   "id": "6086c87b",
   "metadata": {},
   "outputs": [
    {
     "name": "stdout",
     "output_type": "stream",
     "text": [
      "Enter: Adil\n",
      "Adil\n",
      "Enter: Mubashir\n",
      "Mubashir\n",
      "Enter: quit\n"
     ]
    }
   ],
   "source": [
    "active = True\n",
    "while active:\n",
    "    message = input('Enter: ')\n",
    "    \n",
    "    if message == 'quit':\n",
    "        active = False\n",
    "    else:\n",
    "        print(message)"
   ]
  },
  {
   "cell_type": "markdown",
   "id": "3acdfbb2",
   "metadata": {},
   "source": [
    "## Summary\n",
    "\n",
    "In this chapter you learned how to use input() to allow users to provide\n",
    "their own information in your programs. You learned to work with both\n",
    "text and numerical input and how to use while loops to make your programs\n",
    "run as long as your users want them to. You saw several ways to control the\n",
    "flow of a while loop by setting an active flag, using the break statement, and\n",
    "132 Chapter 7\n",
    "using the continue statement. You learned how to use a while loop to move\n",
    "items from one list to another and how to remove all instances of a value\n",
    "from a list. You also learned how while loops can be used with dictionaries.\n",
    "In Chapter 8 you’ll learn about functions. Functions allow you to break\n",
    "your programs into small parts, each of which does one specific job. You\n",
    "can call a function as many times as you want, and you can store your\n",
    "functions in separate files. By using functions, you’ll be able to write more\n",
    "efficient code that’s easier to troubleshoot and maintain and that can be\n",
    "reused in many different programs."
   ]
  },
  {
   "cell_type": "code",
   "execution_count": null,
   "id": "79662e37",
   "metadata": {},
   "outputs": [],
   "source": []
  }
 ],
 "metadata": {
  "kernelspec": {
   "display_name": "Python 3 (ipykernel)",
   "language": "python",
   "name": "python3"
  },
  "language_info": {
   "codemirror_mode": {
    "name": "ipython",
    "version": 3
   },
   "file_extension": ".py",
   "mimetype": "text/x-python",
   "name": "python",
   "nbconvert_exporter": "python",
   "pygments_lexer": "ipython3",
   "version": "3.9.13"
  }
 },
 "nbformat": 4,
 "nbformat_minor": 5
}
